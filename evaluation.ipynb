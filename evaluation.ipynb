{
 "cells": [
  {
   "cell_type": "code",
   "execution_count": 1,
   "id": "419eb783",
   "metadata": {},
   "outputs": [
    {
     "name": "stderr",
     "output_type": "stream",
     "text": [
      "c:\\Users\\audih\\miniconda3\\envs\\tki\\Lib\\site-packages\\tqdm\\auto.py:21: TqdmWarning: IProgress not found. Please update jupyter and ipywidgets. See https://ipywidgets.readthedocs.io/en/stable/user_install.html\n",
      "  from .autonotebook import tqdm as notebook_tqdm\n"
     ]
    }
   ],
   "source": [
    "import os\n",
    "import json\n",
    "from pyserini.search.lucene import LuceneSearcher"
   ]
  },
  {
   "cell_type": "code",
   "execution_count": 2,
   "id": "f9cdfca5",
   "metadata": {},
   "outputs": [
    {
     "name": "stdout",
     "output_type": "stream",
     "text": [
      "Jumlah dokumen: 506\n",
      "Contoh dokumen pertama:\n",
      "{'id': 'doc1', 'url': 'https://investasi.kontan.co.id/news/batas-akhir-penawaran-sr023-kian-dekat-amankan-kupon-595-atau-lirik-saham', 'title': 'batas akhir tawar sr023 kian dekat aman kupon 5 95 lirik saham', 'date': '2025-09-12', 'contents': 'dasar data salah satu mitra distribusi sr023 bibit per jumat 12 9 pagi sr023 tenor tiga tahun imbal hasil 5 80 per tahun baru jual paruh 58 3 kuota nasional besar rp 15 triliun jual rp 8 74 triliun sr023 tenor lima tahun imbal hasil 5 95 jual 84 9 kuota nasional rp 5 triliun jual rp 4 24 triliun nilai tenor tiga tahun lebih banyak pilih investor kuota tetap lebih banyak tenor sebut serap hingga jelang tutup tawar maksimal fixed income analyst pefindo ahmad nasrudin kata imbal hasil benar kupon tawar sr023 tenor tiga tahun besar 5 8 tenor lima tahun besar 5 98 lebih tinggi yield pasar yield pasar 5 52 tenor tiga tahun 5 77 tenor lima tahun per kamis 11 9 jadi komparatif kupon sr023 relatif lebih tinggi memang beberapa investor ritel mulai lirik imbal hasil lebih tinggi instrumen tengah ekspektasi lanjut mangkas suku bunga alternatif utama pasar saham beberapa investor ritel mungkin mulai lirik pasar saham dapat untung lebih tinggi suku bunga lebih rendah dorong kupon turun daya ungkit capital gain akibat mangkas suku bunga setinggi pasar saham ujar ahmad jumat 12 9 lihat indeks harga saham gabung ihsg sentuh 7 700 bahkan sempat 8 000 juni ada bawah 7 000 jadi umum tengah tren mangkas suku bunga pasar saham aset kait kerja sektor riil surat utang korporasi jadi lebih tarik tawar untung lebih tinggi pasar sbn'}\n"
     ]
    }
   ],
   "source": [
    "docs = []\n",
    "file_path = r\"data\\finance_jsonl\\corpus.jsonl\"\n",
    "with open(file_path, \"r\", encoding=\"utf-8\") as f:\n",
    "    for line in f:\n",
    "        docs.append(json.loads(line))\n",
    "\n",
    "print(f\"Jumlah dokumen: {len(docs)}\")\n",
    "print(\"Contoh dokumen pertama:\")\n",
    "print(docs[0])"
   ]
  },
  {
   "cell_type": "code",
   "execution_count": 7,
   "id": "b65ee706",
   "metadata": {},
   "outputs": [],
   "source": [
    "output_path = r\"evaluation\\ground_truth.json\""
   ]
  },
  {
   "cell_type": "code",
   "execution_count": 13,
   "id": "4d2227bb",
   "metadata": {},
   "outputs": [
    {
     "name": "stdout",
     "output_type": "stream",
     "text": [
      "✅ Ground truth disimpan di: evaluation\\ground_truth.json\n"
     ]
    }
   ],
   "source": [
    "ground_truth = [\n",
    "    {\"ekspansi RS MIKA di Sidoarjo kapasitas 200, alokasi belanja modal Rp1T, layanan theranostic\": [\"doc61\", \"doc63\", \"doc69\"]},\n",
    "    {\"respon pemerintah dan otoritas pasar modal terhadap instabilitas politik\": [\"doc372\", \"doc502\", \"doc439\", \"doc444\", \"doc460\", \"doc397\", \"doc452\", \"doc464\", \"doc489\", \"doc264\"]},\n",
    "    {\"proyeksi target harga emiten kelapa sawit Indonesia\": [\"doc310\", \"doc311\", \"doc429\", \"doc29\", \"doc32\", \"doc147\", \"doc297\", \"doc316\", \"doc327\", \"doc348\"]},\n",
    "    {\"pergerakan indeks harga saham gabungan IHSG\": [\"doc6\", \"doc29\", \"doc89\", \"doc145\", \"doc213\", \"doc215\", \"doc252\", \"doc260\", \"doc286\", \"doc430\"]}\n",
    "]\n",
    "\n",
    "\n",
    "with open(output_path, \"w\", encoding=\"utf-8\") as f:\n",
    "    json.dump(ground_truth, f, indent=2, ensure_ascii=False)\n",
    "\n",
    "print(\"✅ Ground truth disimpan di:\", output_path)"
   ]
  },
  {
   "cell_type": "code",
   "execution_count": 15,
   "id": "bb90596e",
   "metadata": {},
   "outputs": [
    {
     "name": "stdout",
     "output_type": "stream",
     "text": [
      "🔍 ekspansi RS MIKA di Sidoarjo kapasitas 200, alokasi belanja modal Rp1T, layanan theranostic\n",
      "→ ['doc61', 'doc69', 'doc63', 'doc243', 'doc433', 'doc478', 'doc23', 'doc398', 'doc172', 'doc383']\n",
      "\n",
      "🔍 respon pemerintah dan otoritas pasar modal terhadap instabilitas politik\n",
      "→ ['doc372', 'doc460', 'doc29', 'doc241', 'doc174', 'doc502', 'doc230', 'doc303', 'doc276', 'doc209']\n",
      "\n",
      "🔍 proyeksi target harga emiten kelapa sawit Indonesia\n",
      "→ ['doc311', 'doc310', 'doc141', 'doc198', 'doc429', 'doc329', 'doc334', 'doc29', 'doc327', 'doc348']\n",
      "\n",
      "🔍 pergerakan indeks harga saham gabungan IHSG\n",
      "→ ['doc444', 'doc29', 'doc293', 'doc109', 'doc397', 'doc439', 'doc88', 'doc464', 'doc403', 'doc429']\n",
      "\n",
      "✅ Hasil pencarian disimpan di evaluation/search_result.json\n"
     ]
    }
   ],
   "source": [
    "# Lokasi index hasil indexing\n",
    "index_dir = r\"indexes\\idx_contents\"\n",
    "searcher = LuceneSearcher(index_dir)\n",
    "\n",
    "# Baca ground truth\n",
    "with open(output_path, \"r\", encoding=\"utf-8\") as f:\n",
    "    ground_truth = json.load(f)\n",
    "\n",
    "# Fungsi search\n",
    "def search(query, k=10):\n",
    "    hits = searcher.search(query, k=k)\n",
    "    return [searcher.doc(h.docid).get(\"id\") for h in hits if searcher.doc(h.docid)]\n",
    "\n",
    "# Jalankan semua query\n",
    "search_results = {}\n",
    "for gt_item in ground_truth:\n",
    "    query = list(gt_item.keys())[0] # Extract the single key which is the query\n",
    "    result_ids = search(query, k=10)\n",
    "    search_results[query] = result_ids\n",
    "    print(f\"🔍 {query}\\n→ {result_ids}\\n\")\n",
    "\n",
    "# Simpan hasil pencarian\n",
    "with open(\"evaluation/search_results.json\", \"w\", encoding=\"utf-8\") as f:\n",
    "    json.dump(search_results, f, indent=2, ensure_ascii=False)\n",
    "\n",
    "print(\"✅ Hasil pencarian disimpan di evaluation/search_result.json\")"
   ]
  },
  {
   "cell_type": "code",
   "execution_count": 16,
   "id": "237a0b96",
   "metadata": {},
   "outputs": [
    {
     "name": "stdout",
     "output_type": "stream",
     "text": [
      "\n",
      "=== Evaluasi Query: ekspansi RS MIKA di Sidoarjo kapasitas 200, alokasi belanja modal Rp1T, layanan theranostic ===\n",
      "Average Precision (AP): 1.0000\n",
      "P@1: 1.0000 | R@1: 0.3333 | F1@1: 0.5000\n",
      "P@3: 1.0000 | R@3: 1.0000 | F1@3: 1.0000\n",
      "P@5: 0.6000 | R@5: 1.0000 | F1@5: 0.7500\n",
      "P@10: 0.3000 | R@10: 1.0000 | F1@10: 0.4615\n",
      "Total Recall: 1.0000\n",
      "\n",
      "=== Evaluasi Query: respon pemerintah dan otoritas pasar modal terhadap instabilitas politik ===\n",
      "Average Precision (AP): 0.2500\n",
      "P@1: 1.0000 | R@1: 0.1000 | F1@1: 0.1818\n",
      "P@3: 0.6667 | R@3: 0.2000 | F1@3: 0.3077\n",
      "P@5: 0.4000 | R@5: 0.2000 | F1@5: 0.2667\n",
      "P@10: 0.3000 | R@10: 0.3000 | F1@10: 0.3000\n",
      "Total Recall: 0.3000\n",
      "\n",
      "=== Evaluasi Query: proyeksi target harga emiten kelapa sawit Indonesia ===\n",
      "Average Precision (AP): 0.4256\n",
      "P@1: 1.0000 | R@1: 0.1000 | F1@1: 0.1818\n",
      "P@3: 0.6667 | R@3: 0.2000 | F1@3: 0.3077\n",
      "P@5: 0.6000 | R@5: 0.3000 | F1@5: 0.4000\n",
      "P@10: 0.6000 | R@10: 0.6000 | F1@10: 0.6000\n",
      "Total Recall: 0.6000\n",
      "\n",
      "=== Evaluasi Query: pergerakan indeks harga saham gabungan IHSG ===\n",
      "Average Precision (AP): 0.0500\n",
      "P@1: 0.0000 | R@1: 0.0000 | F1@1: 0.0000\n",
      "P@3: 0.3333 | R@3: 0.1000 | F1@3: 0.1538\n",
      "P@5: 0.2000 | R@5: 0.1000 | F1@5: 0.1333\n",
      "P@10: 0.1000 | R@10: 0.1000 | F1@10: 0.1000\n",
      "Total Recall: 0.1000\n",
      "\n",
      "📊 Mean Average Precision (MAP): 0.4314\n",
      "📊 Mean Reciprocal Rank (MRR): 0.875\n"
     ]
    }
   ],
   "source": [
    "def safe_div(a, b):\n",
    "    return a / b if b else 0.0\n",
    "\n",
    "def evaluate_query(query, retrieved, relevant):\n",
    "    k_values = [1, 3, 5, 10]\n",
    "    precision_at_k, recall_at_k, f1_at_k = {}, {}, {}\n",
    "\n",
    "    relevant_found = 0\n",
    "    ap_sum = 0.0\n",
    "    total_relevant = len(relevant)\n",
    "\n",
    "    for i, doc_id in enumerate(retrieved, 1):\n",
    "        if doc_id in relevant:\n",
    "            relevant_found += 1\n",
    "            ap_sum += relevant_found / i\n",
    "\n",
    "        for k in k_values:\n",
    "            if i == k:\n",
    "                p = safe_div(relevant_found, k)\n",
    "                r = safe_div(relevant_found, total_relevant)\n",
    "                precision_at_k[k] = p\n",
    "                recall_at_k[k] = r\n",
    "                f1_at_k[k] = safe_div(2 * p * r, p + r) if p + r > 0 else 0.0\n",
    "\n",
    "    ap = safe_div(ap_sum, total_relevant)\n",
    "    recall_overall = safe_div(relevant_found, total_relevant)\n",
    "    return precision_at_k, recall_at_k, f1_at_k, ap, recall_overall\n",
    "\n",
    "with open(\"evaluation/search_results.json\", \"r\", encoding=\"utf-8\") as f:\n",
    "    search_results = json.load(f)\n",
    "\n",
    "total_ap = 0\n",
    "reciprocal_ranks = [] # Initialize list to store reciprocal ranks\n",
    "\n",
    "for gt_item in ground_truth:\n",
    "    query = list(gt_item.keys())[0]\n",
    "    relevant_docs = gt_item[query]\n",
    "    retrieved_docs = search_results.get(query, [])\n",
    "\n",
    "    p_at_k, r_at_k, f1_at_k, ap, recall_total = evaluate_query(query, retrieved_docs, relevant_docs)\n",
    "    total_ap += ap\n",
    "\n",
    "    # Calculate reciprocal rank for MRR\n",
    "    rank = 0\n",
    "    if relevant_docs:\n",
    "        for i, doc_id in enumerate(retrieved_docs):\n",
    "            if doc_id in relevant_docs:\n",
    "                rank = i + 1\n",
    "                break\n",
    "        if rank > 0:\n",
    "            reciprocal_ranks.append(1 / rank)\n",
    "        elif relevant_docs:\n",
    "             reciprocal_ranks.append(0)\n",
    "\n",
    "\n",
    "    print(f\"\\n=== Evaluasi Query: {query} ===\")\n",
    "    print(f\"Average Precision (AP): {ap:.4f}\")\n",
    "    for k in [1, 3, 5, 10]:\n",
    "        print(f\"P@{k}: {p_at_k.get(k,0):.4f} | R@{k}: {r_at_k.get(k,0):.4f} | F1@{k}: {f1_at_k.get(k,0):.4f}\")\n",
    "    print(f\"Total Recall: {recall_total:.4f}\")\n",
    "\n",
    "map_score = safe_div(total_ap, len(ground_truth))\n",
    "print(\"\\n📊 Mean Average Precision (MAP):\", round(map_score, 4))\n",
    "\n",
    "# Calculate and print MRR\n",
    "mrr_score = safe_div(sum(reciprocal_ranks), len(ground_truth))\n",
    "print(\"📊 Mean Reciprocal Rank (MRR):\", round(mrr_score, 4))"
   ]
  },
  {
   "cell_type": "code",
   "execution_count": null,
   "id": "4ac1c936",
   "metadata": {},
   "outputs": [],
   "source": []
  }
 ],
 "metadata": {
  "kernelspec": {
   "display_name": "tki",
   "language": "python",
   "name": "python3"
  },
  "language_info": {
   "codemirror_mode": {
    "name": "ipython",
    "version": 3
   },
   "file_extension": ".py",
   "mimetype": "text/x-python",
   "name": "python",
   "nbconvert_exporter": "python",
   "pygments_lexer": "ipython3",
   "version": "3.11.13"
  }
 },
 "nbformat": 4,
 "nbformat_minor": 5
}
