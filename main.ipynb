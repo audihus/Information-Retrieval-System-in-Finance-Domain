{
  "cells": [
    {
      "cell_type": "code",
      "execution_count": 1,
      "metadata": {
        "colab": {
          "base_uri": "https://localhost:8080/"
        },
        "id": "6zLaG8W_aeO_",
        "outputId": "0f0b8495-67c4-464d-8863-172a34105c25"
      },
      "outputs": [
        {
          "name": "stdout",
          "output_type": "stream",
          "text": [
            "PROJECT_DIR: F:\\UGM\\Tugas\\Temu Kembali Informasi\\Tugas 4\n",
            "CORPUS_SRC : data\\finance_jsonl\\corpus.jsonl\n"
          ]
        }
      ],
      "source": [
        "# from google.colab import drive\n",
        "# drive.mount('/content/drive')\n",
        "\n",
        "# <<=== GANTI JIKA PERLU\n",
        "PROJECT_DIR = r\"F:\\UGM\\Tugas\\Temu Kembali Informasi\\Tugas 4\"\n",
        "CORPUS_SRC  = r\"data\\finance_jsonl\\corpus.jsonl\"\n",
        "\n",
        "print(\"PROJECT_DIR:\", PROJECT_DIR)\n",
        "print(\"CORPUS_SRC :\", CORPUS_SRC)"
      ]
    },
    {
      "cell_type": "code",
      "execution_count": 2,
      "metadata": {},
      "outputs": [
        {
          "name": "stdout",
          "output_type": "stream",
          "text": [
            "openjdk 21.0.8 2025-07-15 LTS\n",
            "OpenJDK Runtime Environment Zulu21.44+17-CA (build 21.0.8+9-LTS)\n",
            "OpenJDK 64-Bit Server VM Zulu21.44+17-CA (build 21.0.8+9-LTS, mixed mode, sharing)\n"
          ]
        }
      ],
      "source": [
        "!java --version"
      ]
    },
    {
      "cell_type": "code",
      "execution_count": 15,
      "metadata": {
        "colab": {
          "base_uri": "https://localhost:8080/"
        },
        "id": "kW3vT4lYbnHE",
        "outputId": "4cbe5e73-af29-418e-ae07-07510d8cc831"
      },
      "outputs": [
        {
          "name": "stderr",
          "output_type": "stream",
          "text": [
            "'rm' is not recognized as an internal or external command,\n",
            "operable program or batch file.\n"
          ]
        },
        {
          "name": "stdout",
          "output_type": "stream",
          "text": [
            "2025-10-22 07:44:16,656 INFO  [main] index.AbstractIndexer (AbstractIndexer.java:205) - Setting log level to INFO\n",
            "2025-10-22 07:44:16,662 INFO  [main] index.AbstractIndexer (AbstractIndexer.java:208) - ============ Loading Index Configuration ============\n",
            "2025-10-22 07:44:16,663 INFO  [main] index.AbstractIndexer (AbstractIndexer.java:209) - AbstractIndexer settings:\n",
            "2025-10-22 07:44:16,664 INFO  [main] index.AbstractIndexer (AbstractIndexer.java:210) -  + DocumentCollection path: data/finance_jsonl\n",
            "2025-10-22 07:44:16,664 INFO  [main] index.AbstractIndexer (AbstractIndexer.java:211) -  + CollectionClass: JsonCollection\n",
            "2025-10-22 07:44:16,665 INFO  [main] index.AbstractIndexer (AbstractIndexer.java:212) -  + Index path: indexes/idx_contents\n",
            "2025-10-22 07:44:16,667 INFO  [main] index.AbstractIndexer (AbstractIndexer.java:213) -  + Threads: 2\n",
            "2025-10-22 07:44:16,668 INFO  [main] index.AbstractIndexer (AbstractIndexer.java:214) -  + Optimize (merge segments)? false\n",
            "2025-10-22 07:44:16,753 INFO  [main] index.IndexCollection (IndexCollection.java:246) - Using DefaultEnglishAnalyzer\n",
            "2025-10-22 07:44:16,754 INFO  [main] index.IndexCollection (IndexCollection.java:247) - Stemmer: porter\n",
            "2025-10-22 07:44:16,755 INFO  [main] index.IndexCollection (IndexCollection.java:248) - Keep stopwords? false\n",
            "2025-10-22 07:44:16,755 INFO  [main] index.IndexCollection (IndexCollection.java:249) - Stopwords file: null\n",
            "2025-10-22 07:44:17,075 INFO  [main] index.IndexCollection (IndexCollection.java:197) - IndexCollection settings:\n",
            "2025-10-22 07:44:17,076 INFO  [main] index.IndexCollection (IndexCollection.java:198) -  + Generator: DefaultLuceneDocumentGenerator\n",
            "2025-10-22 07:44:17,077 INFO  [main] index.IndexCollection (IndexCollection.java:199) -  + Language: en\n",
            "2025-10-22 07:44:17,078 INFO  [main] index.IndexCollection (IndexCollection.java:200) -  + Stemmer: porter\n",
            "2025-10-22 07:44:17,079 INFO  [main] index.IndexCollection (IndexCollection.java:201) -  + Keep stopwords? false\n",
            "2025-10-22 07:44:17,080 INFO  [main] index.IndexCollection (IndexCollection.java:202) -  + Stopwords: null\n",
            "2025-10-22 07:44:17,081 INFO  [main] index.IndexCollection (IndexCollection.java:203) -  + Store positions? true\n",
            "2025-10-22 07:44:17,084 INFO  [main] index.IndexCollection (IndexCollection.java:204) -  + Store docvectors? true\n",
            "2025-10-22 07:44:17,085 INFO  [main] index.IndexCollection (IndexCollection.java:205) -  + Store document \"contents\" field? false\n",
            "2025-10-22 07:44:17,087 INFO  [main] index.IndexCollection (IndexCollection.java:206) -  + Store document \"raw\" field? true\n",
            "2025-10-22 07:44:17,088 INFO  [main] index.IndexCollection (IndexCollection.java:207) -  + Additional fields to index: []\n",
            "2025-10-22 07:44:17,089 INFO  [main] index.IndexCollection (IndexCollection.java:208) -  + Whitelist: null\n",
            "2025-10-22 07:44:17,091 INFO  [main] index.IndexCollection (IndexCollection.java:209) -  + Pretokenized?: false\n",
            "2025-10-22 07:44:17,092 INFO  [main] index.IndexCollection (IndexCollection.java:210) -  + Codec: Lucene99\n",
            "2025-10-22 07:44:17,092 INFO  [main] index.AbstractIndexer (AbstractIndexer.java:238) - ============ Indexing Collection ============\n",
            "2025-10-22 07:44:17,098 INFO  [main] index.AbstractIndexer (AbstractIndexer.java:247) - Thread pool with 2 threads initialized.\n",
            "2025-10-22 07:44:17,101 INFO  [main] index.AbstractIndexer (AbstractIndexer.java:248) - 1 file found in data\\finance_jsonl\n",
            "2025-10-22 07:44:17,101 INFO  [main] index.AbstractIndexer (AbstractIndexer.java:249) - Starting to index...\n",
            "2025-10-22 07:44:20,108 INFO  [main] index.AbstractIndexer (AbstractIndexer.java:307) - Indexing Complete! 506 documents indexed\n",
            "2025-10-22 07:44:20,109 INFO  [main] index.AbstractIndexer (AbstractIndexer.java:308) - ============ Final Counter Values ============\n",
            "2025-10-22 07:44:20,110 INFO  [main] index.AbstractIndexer (AbstractIndexer.java:309) - indexed:              506\n",
            "2025-10-22 07:44:20,111 INFO  [main] index.AbstractIndexer (AbstractIndexer.java:310) - unindexable:            0\n",
            "2025-10-22 07:44:20,112 INFO  [main] index.AbstractIndexer (AbstractIndexer.java:311) - empty:                  0\n",
            "2025-10-22 07:44:20,113 INFO  [main] index.AbstractIndexer (AbstractIndexer.java:312) - skipped:                0\n",
            "2025-10-22 07:44:20,114 INFO  [main] index.AbstractIndexer (AbstractIndexer.java:313) - errors:                 0\n",
            "2025-10-22 07:44:20,130 INFO  [main] index.AbstractIndexer (AbstractIndexer.java:316) - Total 506 documents indexed in 00:00:03\n"
          ]
        },
        {
          "name": "stderr",
          "output_type": "stream",
          "text": [
            "WARNING: Using incubator modules: jdk.incubator.vector\n",
            "Oct 22, 2025 7:44:16 AM org.apache.lucene.store.MemorySegmentIndexInputProvider <init>\n",
            "INFO: Using MemorySegmentIndexInput with Java 21; to disable start with -Dorg.apache.lucene.store.MMapDirectory.enableMemorySegments=false\n"
          ]
        }
      ],
      "source": [
        "# bersihkan index lama\n",
        "!rm -rf indexes/idx_contents indexes/hybird/idx_contents indexes/idx_hybrid\n",
        "\n",
        "# A) contents → pakai file asli di data/finance_jsonl\n",
        "!python -m pyserini.index.lucene \\\n",
        "  --collection JsonCollection \\\n",
        "  --input data/finance_jsonl \\\n",
        "  --index indexes/idx_contents \\\n",
        "  --generator DefaultLuceneDocumentGenerator \\\n",
        "  --threads 2 \\\n",
        "  --storePositions --storeDocvectors --storeRaw"
      ]
    },
    {
      "cell_type": "code",
      "execution_count": 2,
      "metadata": {
        "colab": {
          "base_uri": "https://localhost:8080/"
        },
        "id": "uD_Ih0rZbuAg",
        "outputId": "1a4b46cf-b0bb-4493-8f6c-3d35b0faa6ee"
      },
      "outputs": [
        {
          "name": "stderr",
          "output_type": "stream",
          "text": [
            "c:\\Users\\audih\\miniconda3\\envs\\tki\\Lib\\site-packages\\tqdm\\auto.py:21: TqdmWarning: IProgress not found. Please update jupyter and ipywidgets. See https://ipywidgets.readthedocs.io/en/stable/user_install.html\n",
            "  from .autonotebook import tqdm as notebook_tqdm\n"
          ]
        }
      ],
      "source": [
        "from pyserini.search.lucene import LuceneSearcher\n",
        "import json\n",
        "\n",
        "searcher = LuceneSearcher(\"indexes/idx_contents\")\n",
        "\n",
        "def search(query, k=5):\n",
        "    hits = searcher.search(query, k=k)\n",
        "    results = []\n",
        "    for i, h in enumerate(hits, 1):\n",
        "        raw = searcher.doc(h.docid).raw()\n",
        "        try:\n",
        "            obj = json.loads(raw)\n",
        "            title = obj.get(\"title\",\"\").strip()\n",
        "            url   = obj.get(\"url\",\"\")\n",
        "            snippet = obj.get(\"contents\",\"\")[:300].replace(\"\\n\",\" \")\n",
        "        except Exception:\n",
        "            title, url, snippet = \"\", \"\", \"\"\n",
        "        results.append({\n",
        "            \"rank\": i, \"docid\": h.docid, \"score\": h.score,\n",
        "            \"title\": title, \"url\": url, \"snippet\": snippet\n",
        "        })\n",
        "    return results"
      ]
    },
    {
      "cell_type": "code",
      "execution_count": 3,
      "metadata": {},
      "outputs": [
        {
          "name": "stdout",
          "output_type": "stream",
          "text": [
            "\n",
            "=== Query: pergerakan indeks harga saham gabungan ihsg ===\n",
            "1. ihsg potensi lanjut kuat rabu 3 9 2025 simak rekomendasi saham (score=3.29)\n",
            "    https://investasi.kontan.co.id/news/ihsg-berpotensi-lanjut-menguat-rabu-392025-simak-rekomendasi-sahamnya\n",
            "2. ihsg mulai rebound pasca reshuffle menteri riskan koreksi (score=3.26)\n",
            "    https://investasi.kontan.co.id/news/ihsg-mulai-rebound-pasca-reshuffle-menteri-masih-riskan-terkoreksi\n",
            "3. bukan blue chip harga saham second liner terus daki cek layak beli jual (score=3.22)\n",
            "    https://investasi.kontan.co.id/news/bukan-blue-chip-harga-saham-second-liner-terus-mendaki-cek-yang-layak-beli-jual\n",
            "4. saham arto lompat 7 11 jadi top gainers utama lq45 sentimen positif (score=3.17)\n",
            "    https://investasi.kontan.co.id/news/saham-arto-melompat-711-dan-jadi-top-gainers-utama-lq45-ini-sentimen-positifnya\n",
            "5. kuat rapuh lonjak ihsg sokong emiten market cap jumbo (score=3.06)\n",
            "    https://investasi.kontan.co.id/news/penguatan-masih-rapuh-lonjakan-ihsg-hanya-disokong-emiten-market-cap-jumbo\n",
            "6. ihsg proyeksi lemah rabu 3 9 analis rekomendasi empat saham pilih (score=3.06)\n",
            "    https://investasi.kontan.co.id/news/ihsg-diproyeksi-melemah-rabu-39-analis-rekomendasikan-empat-saham-pilihan\n",
            "7. simak rekomendasi teknikal mirae sekuritas saham inkp srtg cuan kamis 11 9 (score=3.03)\n",
            "    https://investasi.kontan.co.id/news/simak-rekomendasi-teknikal-mirae-sekuritas-saham-inkp-srtg-cuan-kamis-119\n",
            "8. waspada kuat ihsg nilai sifat semu (score=3.02)\n",
            "    https://investasi.kontan.co.id/news/waspada-penguatan-ihsg-bersifat-semu\n",
            "9. prediksi ihsg rekomendasi saham kamis 4 9 2025 (score=3.00)\n",
            "    https://investasi.kontan.co.id/news/prediksi-ihsg-dan-rekomendasi-saham-untuk-kamis-492025\n",
            "10. ihsg peluang tembus 8 000 tengah gejolak ekonomi ikut rekomendasi saham (score=2.95)\n",
            "    https://investasi.kontan.co.id/news/ihsg-berpeluang-tembus-8000-di-tengah-gejolak-ekonomi-berikut-rekomendasi-sahamnya\n"
          ]
        }
      ],
      "source": [
        "queries = [\n",
        "    \"pergerakan indeks harga saham gabungan ihsg\"\n",
        "]\n",
        "\n",
        "for q in queries: \n",
        "    print(f\"\\n=== Query: {q} ===\")\n",
        "    for r in search(q, k=10):\n",
        "        print(f\"{r['rank']}. {r['title']} (score={r['score']:.2f})\")\n",
        "        if r['url']:\n",
        "            print(\"   \", r['url'])"
      ]
    }
  ],
  "metadata": {
    "colab": {
      "provenance": []
    },
    "kernelspec": {
      "display_name": "tki",
      "language": "python",
      "name": "python3"
    },
    "language_info": {
      "codemirror_mode": {
        "name": "ipython",
        "version": 3
      },
      "file_extension": ".py",
      "mimetype": "text/x-python",
      "name": "python",
      "nbconvert_exporter": "python",
      "pygments_lexer": "ipython3",
      "version": "3.11.13"
    }
  },
  "nbformat": 4,
  "nbformat_minor": 0
}
